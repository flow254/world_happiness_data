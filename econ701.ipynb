{
  "nbformat": 4,
  "nbformat_minor": 0,
  "metadata": {
    "colab": {
      "name": "econ701.ipynb",
      "provenance": [],
      "collapsed_sections": [],
      "authorship_tag": "ABX9TyN/ywy6bmpX1+mf3NehVnrI",
      "include_colab_link": true
    },
    "kernelspec": {
      "name": "python3",
      "display_name": "Python 3"
    },
    "language_info": {
      "name": "python"
    }
  },
  "cells": [
    {
      "cell_type": "markdown",
      "metadata": {
        "id": "view-in-github",
        "colab_type": "text"
      },
      "source": [
        "<a href=\"https://colab.research.google.com/github/flow254/world_happiness_data/blob/main/econ701.ipynb\" target=\"_parent\"><img src=\"https://colab.research.google.com/assets/colab-badge.svg\" alt=\"Open In Colab\"/></a>"
      ]
    },
    {
      "cell_type": "code",
      "metadata": {
        "colab": {
          "base_uri": "https://localhost:8080/"
        },
        "id": "0rYK5L7nykFG",
        "outputId": "c2fe9faa-2fe7-46a6-a6fe-ae7281a0c57e"
      },
      "source": [
        "#connect to google drive to access datasets\n",
        "from google.colab import drive\n",
        "drive.mount('/content/gdrive')\n"
      ],
      "execution_count": 3,
      "outputs": [
        {
          "output_type": "stream",
          "text": [
            "Mounted at /content/gdrive\n"
          ],
          "name": "stdout"
        }
      ]
    },
    {
      "cell_type": "markdown",
      "metadata": {
        "id": "qeg8WGDKUmdU"
      },
      "source": [
        ""
      ]
    },
    {
      "cell_type": "markdown",
      "metadata": {
        "id": "2fPHbtNDUpJx"
      },
      "source": [
        "## `*Now we can explore the different datasets found in the folder \"cleaned_datasets_econ_701\"* Link [here](https://drive.google.com/drive/folders/1_OxXS9eawRQzoBaw1LNEW4NmKbFvbYWz?usp=sharing)`"
      ]
    },
    {
      "cell_type": "markdown",
      "metadata": {
        "id": "zhPDexd1Vy3p"
      },
      "source": [
        "Here are the list of datasets we'll be working with:"
      ]
    },
    {
      "cell_type": "code",
      "metadata": {
        "colab": {
          "base_uri": "https://localhost:8080/"
        },
        "id": "w8UzEXV5Vq71",
        "outputId": "5db95112-7c5b-4e36-b1ef-51080be3b85d"
      },
      "source": [
        "!ls \"/content/gdrive/My Drive/cleaned_datasets_econ_701\""
      ],
      "execution_count": 4,
      "outputs": [
        {
          "output_type": "stream",
          "text": [
            "cleaned_economic_freedom.csv\n",
            "cleaned_feeling_of_happinesswave1.csv\n",
            "cleaned_feeling_of_happiness_wave1.gsheet\n",
            "cleaned_feeling_of_happiness_wave2.csv\n",
            "cleaned_gdp_2010us.csv\n",
            "cleaned_gdp_growth2015_2018.csv\n",
            "cleaned_gdp_per_capita2014_2019.csv\n",
            "cleaned_gross_domestic_savings.csv\n",
            "cleaned_public_sector_debt.csv\n",
            "cleaned_state_of_health_subjective_wave1.csv\n",
            "cleaned_state_of_health_subjective_wave2.csv\n",
            "worldGivingIndex.csv\n",
            "world_happiness2015.csv\n",
            "world_happiness2016.csv\n",
            "world_happiness2017.csv\n",
            "world_happiness2018.csv\n",
            "wtui2014_2019.csv\n",
            "wui2014_2019.csv\n"
          ],
          "name": "stdout"
        }
      ]
    },
    {
      "cell_type": "markdown",
      "metadata": {
        "id": "17x8aUtXWIoT"
      },
      "source": [
        "We will rename some of them for ease of access. I renamed them manually on Google Drive. Here they are renamed:"
      ]
    },
    {
      "cell_type": "code",
      "metadata": {
        "colab": {
          "base_uri": "https://localhost:8080/"
        },
        "id": "yMr1TjN7XYBG",
        "outputId": "6b4dff97-a3d1-4313-cf49-53016d067d26"
      },
      "source": [
        "!ls \"/content/gdrive/My Drive/cleaned_datasets_econ_701\""
      ],
      "execution_count": 5,
      "outputs": [
        {
          "output_type": "stream",
          "text": [
            "cleaned_economic_freedom.csv\n",
            "cleaned_feeling_of_happinesswave1.csv\n",
            "cleaned_feeling_of_happiness_wave1.gsheet\n",
            "cleaned_feeling_of_happiness_wave2.csv\n",
            "cleaned_gdp_2010us.csv\n",
            "cleaned_gdp_growth2015_2018.csv\n",
            "cleaned_gdp_per_capita2014_2019.csv\n",
            "cleaned_gross_domestic_savings.csv\n",
            "cleaned_public_sector_debt.csv\n",
            "cleaned_state_of_health_subjective_wave1.csv\n",
            "cleaned_state_of_health_subjective_wave2.csv\n",
            "worldGivingIndex.csv\n",
            "world_happiness2015.csv\n",
            "world_happiness2016.csv\n",
            "world_happiness2017.csv\n",
            "world_happiness2018.csv\n",
            "wtui2014_2019.csv\n",
            "wui2014_2019.csv\n"
          ],
          "name": "stdout"
        }
      ]
    },
    {
      "cell_type": "markdown",
      "metadata": {
        "id": "0HRv4KuOXnDj"
      },
      "source": [
        "**2. Data Analysis**\n",
        "\n",
        "\n",
        "---\n",
        "\n",
        "\n",
        "We will start by exploring each dataset and seeing each shape.\n",
        "To do this we need to import a few tools from python - numpy, pandas and matplotlib. We import these tools to explore the data. We will also import datetime for time-series data"
      ]
    },
    {
      "cell_type": "code",
      "metadata": {
        "id": "Nu5NLV_yXmeb"
      },
      "source": [
        "import pandas as pd\n",
        "import numpy as np\n",
        "import matplotlib.pyplot as plt\n",
        "from datetime import datetime\n"
      ],
      "execution_count": 6,
      "outputs": []
    },
    {
      "cell_type": "code",
      "metadata": {
        "id": "97jbUF9QfuLA"
      },
      "source": [
        ""
      ],
      "execution_count": null,
      "outputs": []
    },
    {
      "cell_type": "markdown",
      "metadata": {
        "id": "8rGK7RwVrDiP"
      },
      "source": [
        "i) Open ended question data from World Values Surveys"
      ]
    },
    {
      "cell_type": "code",
      "metadata": {
        "colab": {
          "base_uri": "https://localhost:8080/"
        },
        "id": "1e-9-A4WfNjW",
        "outputId": "a31fb9ba-0733-409b-ded6-e0f66a5af68d"
      },
      "source": [
        "dataset_folder = \"/content/gdrive/My Drive/cleaned_datasets_econ_701\"\n",
        "open_ended_df1 = pd.read_csv(dataset_folder+\"/cleaned_feeling_of_happinesswave1.csv\")\n",
        "open_ended_df2 = pd.read_csv(dataset_folder+\"/cleaned_feeling_of_happiness_wave2.csv\")\n",
        "print(open_ended_df1.shape)\n",
        "print(open_ended_df1.columns)\n",
        "print(open_ended_df1.head())\n",
        "print(open_ended_df2.shape)\n",
        "print(open_ended_df2.columns)\n",
        "print(open_ended_df2.head())"
      ],
      "execution_count": 10,
      "outputs": [
        {
          "output_type": "stream",
          "text": [
            "(60, 5)\n",
            "Index(['country', 'very_happy', 'quite_happy', 'not_very_happy', 'not_at_all'], dtype='object')\n",
            "      country  very_happy  quite_happy  not_very_happy  not_at_all\n",
            "0     Algeria        18.6         61.3            16.0         4.1\n",
            "1  Azerbaijan        27.2         53.4            16.8         2.6\n",
            "2   Argentina        33.7         53.6            11.7         1.0\n",
            "3   Australia        35.1         58.1             6.3         0.5\n",
            "4     Armenia        31.5         51.2            12.1         5.2\n",
            "(80, 5)\n",
            "Index(['country', 'very_happy', 'quite_happy', 'not_very_happy', 'not_at_all'], dtype='object')\n",
            "      country  very_happy  quite_happy  not_very_happy  not_at_all\n",
            "0     Albania        17.5         56.6            21.3         4.5\n",
            "1     Andorra        34.3         60.8             4.7         0.3\n",
            "2  Azerbaijan        20.3         64.0            13.8         1.9\n",
            "3   Argentina        32.5         54.8            11.4         1.3\n",
            "4   Australia        26.8         63.0             8.7         1.5\n"
          ],
          "name": "stdout"
        }
      ]
    },
    {
      "cell_type": "markdown",
      "metadata": {
        "id": "ssNBOA51hOj4"
      },
      "source": [
        "Summary statistics of open-ended question data:"
      ]
    },
    {
      "cell_type": "code",
      "metadata": {
        "colab": {
          "base_uri": "https://localhost:8080/"
        },
        "id": "ziNK1j-EhUN2",
        "outputId": "e3fbba85-8eef-4d54-8092-a962878d297e"
      },
      "source": [
        "print(open_ended_df1.describe())\n",
        "print(open_ended_df2.describe())"
      ],
      "execution_count": 11,
      "outputs": [
        {
          "output_type": "stream",
          "text": [
            "       very_happy  quite_happy  not_very_happy  not_at_all\n",
            "count   60.000000    60.000000       60.000000   60.000000\n",
            "mean    32.031667    52.300000       12.790000    2.875000\n",
            "std     14.923471    12.082008        6.995415    5.671595\n",
            "min      5.300000    20.700000        1.700000    0.000000\n",
            "25%     19.350000    45.275000        7.725000    0.775000\n",
            "50%     32.750000    54.200000       11.300000    1.450000\n",
            "75%     39.475000    60.800000       16.200000    3.725000\n",
            "max     67.500000    74.800000       30.100000   44.000000\n",
            "       very_happy  quite_happy  not_very_happy  not_at_all\n",
            "count   80.000000    80.000000       80.000000   80.000000\n",
            "mean    29.832500    56.020000       11.970000    2.177500\n",
            "std     13.649257    11.982692        5.817246    2.654205\n",
            "min      4.100000    26.000000        2.200000    0.100000\n",
            "25%     18.675000    51.600000        8.075000    0.800000\n",
            "50%     27.750000    58.550000       10.150000    1.300000\n",
            "75%     35.350000    63.775000       15.625000    2.325000\n",
            "max     69.000000    85.000000       32.000000   16.100000\n"
          ],
          "name": "stdout"
        }
      ]
    },
    {
      "cell_type": "markdown",
      "metadata": {
        "id": "_eL1An1Gq5bG"
      },
      "source": [
        "ii) Cantril ladder data from world happiness reports"
      ]
    },
    {
      "cell_type": "code",
      "metadata": {
        "id": "kyAFoyiyrN0W"
      },
      "source": [
        "cantril_2015_df = pd.read_csv(dataset_folder+\"/world_happiness2015.csv\")\n",
        "cantril_2016_df = pd.read_csv(dataset_folder+\"/world_happiness2016.csv\")\n",
        "cantril_2017_df = pd.read_csv(dataset_folder+\"/world_happiness2017.csv\")\n",
        "cantril_2018_df = pd.read_csv(dataset_folder+\"/world_happiness2018.csv\")"
      ],
      "execution_count": 12,
      "outputs": []
    },
    {
      "cell_type": "code",
      "metadata": {
        "colab": {
          "base_uri": "https://localhost:8080/"
        },
        "id": "fR1HInWUr77f",
        "outputId": "15a03e2f-002c-4991-c3ba-683c8bf30098"
      },
      "source": [
        "print(cantril_2015_df.shape)\n",
        "print(cantril_2015_df.columns)\n",
        "print(cantril_2016_df.shape)\n",
        "print(cantril_2016_df.columns)\n",
        "print(cantril_2017_df.shape)\n",
        "print(cantril_2017_df.columns)\n",
        "print(cantril_2018_df.shape)\n",
        "print(cantril_2018_df.columns)"
      ],
      "execution_count": 13,
      "outputs": [
        {
          "output_type": "stream",
          "text": [
            "(158, 12)\n",
            "Index(['country', 'region', 'happiness_rank', 'cantril_score',\n",
            "       'standard_error', 'r_gdp_per_capita', 'family', 'life_expectancy',\n",
            "       'freedom', 'corruption', 'generosity', 'dystopia_residual'],\n",
            "      dtype='object')\n",
            "(157, 13)\n",
            "Index(['country', 'region', 'happiness_ranking', 'cantril_score',\n",
            "       'Lower Confidence Interval', 'Upper Confidence Interval',\n",
            "       'r_gdp_per_capita', 'family', 'life_expectancy', 'freedom',\n",
            "       'corruption', 'generosity', 'dystopia_residual'],\n",
            "      dtype='object')\n",
            "(155, 12)\n",
            "Index(['country', 'happiness_rank', 'cantril_score', 'upper_interval',\n",
            "       'lower_interval', 'r_gdp_per_capita', 'family', 'life_expectancy',\n",
            "       'freedom', 'generosity', 'corruption', 'dystopia_residual'],\n",
            "      dtype='object')\n",
            "(156, 9)\n",
            "Index(['Overall rank', 'country', 'cantril_score', 'r_gdp_per_capita',\n",
            "       'social_support', 'life_expectancy', 'freedom', 'generosity',\n",
            "       'corruption'],\n",
            "      dtype='object')\n"
          ],
          "name": "stdout"
        }
      ]
    },
    {
      "cell_type": "markdown",
      "metadata": {
        "id": "9MJGqVcstAv0"
      },
      "source": [
        "The data from the World Happiness Reports has the Cantril ladder score for each country along with the coefficients associated with each of the six variables the World Happiness Report focuses on as leading to greater well-being:\n",
        "i) Log-gdp-per capita ii) social support iii) healthy life expectancy iv) freedom v) generosity and vi) corruption\n",
        "The dystopia residual shows the average amount by which the overall happiness score (the life evaluation) is higher in a country because they perform better than Dystopia on the six variables combined. \n",
        "Each variable's dystopia residual can also be calculated. More on that later. "
      ]
    },
    {
      "cell_type": "code",
      "metadata": {
        "colab": {
          "base_uri": "https://localhost:8080/"
        },
        "id": "u0d4ZwstsqAT",
        "outputId": "fa067f24-2177-4500-932b-aa990d1b45e2"
      },
      "source": [
        "print(cantril_2015_df.head())\n",
        "print(cantril_2016_df.head())\n",
        "print(cantril_2017_df.head())\n",
        "print(cantril_2018_df.head())"
      ],
      "execution_count": 14,
      "outputs": [
        {
          "output_type": "stream",
          "text": [
            "       country          region  ...  generosity  dystopia_residual\n",
            "0  Switzerland  Western Europe  ...     0.29678            2.51738\n",
            "1      Iceland  Western Europe  ...     0.43630            2.70201\n",
            "2      Denmark  Western Europe  ...     0.34139            2.49204\n",
            "3       Norway  Western Europe  ...     0.34699            2.46531\n",
            "4       Canada   North America  ...     0.45811            2.45176\n",
            "\n",
            "[5 rows x 12 columns]\n",
            "       country          region  ...  generosity  dystopia_residual\n",
            "0      Denmark  Western Europe  ...     0.36171            2.73939\n",
            "1  Switzerland  Western Europe  ...     0.28083            2.69463\n",
            "2      Iceland  Western Europe  ...     0.47678            2.83137\n",
            "3       Norway  Western Europe  ...     0.37895            2.66465\n",
            "4      Finland  Western Europe  ...     0.25492            2.82596\n",
            "\n",
            "[5 rows x 13 columns]\n",
            "       country  happiness_rank  ...  corruption  dystopia_residual\n",
            "0       Norway               1  ...    0.315964           2.277027\n",
            "1      Denmark               2  ...    0.400770           2.313707\n",
            "2      Iceland               3  ...    0.153527           2.322715\n",
            "3  Switzerland               4  ...    0.367007           2.276716\n",
            "4      Finland               5  ...    0.382612           2.430182\n",
            "\n",
            "[5 rows x 12 columns]\n",
            "   Overall rank      country  cantril_score  ...  freedom  generosity  corruption\n",
            "0             1      Finland          7.632  ...    0.681       0.202       0.393\n",
            "1             2       Norway          7.594  ...    0.686       0.286       0.340\n",
            "2             3      Denmark          7.555  ...    0.683       0.284       0.408\n",
            "3             4      Iceland          7.495  ...    0.677       0.353       0.138\n",
            "4             5  Switzerland          7.487  ...    0.660       0.256       0.357\n",
            "\n",
            "[5 rows x 9 columns]\n"
          ],
          "name": "stdout"
        }
      ]
    },
    {
      "cell_type": "markdown",
      "metadata": {
        "id": "I69kZ2BDvOSq"
      },
      "source": [
        "Summary statistics:"
      ]
    },
    {
      "cell_type": "code",
      "metadata": {
        "colab": {
          "base_uri": "https://localhost:8080/"
        },
        "id": "emeO6qxku7IQ",
        "outputId": "016dc52e-5860-433b-bfcc-0b1fc681985b"
      },
      "source": [
        "print(cantril_2015_df.describe())\n",
        "print(cantril_2016_df.describe())\n",
        "print(cantril_2017_df.describe())\n",
        "print(cantril_2018_df.describe())"
      ],
      "execution_count": 15,
      "outputs": [
        {
          "output_type": "stream",
          "text": [
            "       happiness_rank  cantril_score  ...  generosity  dystopia_residual\n",
            "count      158.000000     158.000000  ...  158.000000         158.000000\n",
            "mean        79.493671       5.375734  ...    0.237296           2.098977\n",
            "std         45.754363       1.145010  ...    0.126685           0.553550\n",
            "min          1.000000       2.839000  ...    0.000000           0.328580\n",
            "25%         40.250000       4.526000  ...    0.150553           1.759410\n",
            "50%         79.500000       5.232500  ...    0.216130           2.095415\n",
            "75%        118.750000       6.243750  ...    0.309883           2.462415\n",
            "max        158.000000       7.587000  ...    0.795880           3.602140\n",
            "\n",
            "[8 rows x 10 columns]\n",
            "       happiness_ranking  cantril_score  ...  generosity  dystopia_residual\n",
            "count         157.000000     157.000000  ...  157.000000         157.000000\n",
            "mean           78.980892       5.382185  ...    0.242635           2.325807\n",
            "std            45.466030       1.141674  ...    0.133756           0.542220\n",
            "min             1.000000       2.905000  ...    0.000000           0.817890\n",
            "25%            40.000000       4.404000  ...    0.154570           2.031710\n",
            "50%            79.000000       5.314000  ...    0.222450           2.290740\n",
            "75%           118.000000       6.269000  ...    0.311850           2.664650\n",
            "max           157.000000       7.526000  ...    0.819710           3.837720\n",
            "\n",
            "[8 rows x 11 columns]\n",
            "       happiness_rank  cantril_score  ...  corruption  dystopia_residual\n",
            "count      155.000000     155.000000  ...  155.000000         155.000000\n",
            "mean        78.000000       5.354019  ...    0.123120           1.850238\n",
            "std         44.888751       1.131230  ...    0.101661           0.500028\n",
            "min          1.000000       2.693000  ...    0.000000           0.377914\n",
            "25%         39.500000       4.505500  ...    0.057271           1.591291\n",
            "50%         78.000000       5.279000  ...    0.089848           1.832910\n",
            "75%        116.500000       6.101500  ...    0.153296           2.144654\n",
            "max        155.000000       7.537000  ...    0.464308           3.117485\n",
            "\n",
            "[8 rows x 11 columns]\n",
            "       Overall rank  cantril_score  ...  generosity  corruption\n",
            "count    156.000000     156.000000  ...  156.000000  155.000000\n",
            "mean      78.500000       5.375917  ...    0.181006    0.112000\n",
            "std       45.177428       1.119506  ...    0.098471    0.096492\n",
            "min        1.000000       2.905000  ...    0.000000    0.000000\n",
            "25%       39.750000       4.453750  ...    0.109500    0.051000\n",
            "50%       78.500000       5.378000  ...    0.174000    0.082000\n",
            "75%      117.250000       6.168500  ...    0.239000    0.137000\n",
            "max      156.000000       7.632000  ...    0.598000    0.457000\n",
            "\n",
            "[8 rows x 8 columns]\n"
          ],
          "name": "stdout"
        }
      ]
    },
    {
      "cell_type": "markdown",
      "metadata": {
        "id": "fuewWKEHvTRP"
      },
      "source": [
        "iii) GDP indicators\n",
        "We explore indicators related to each country's GDP - GDP in constant 2010 USD, GDP growth and GDP per capita in 2010 USD\n",
        "\n"
      ]
    },
    {
      "cell_type": "code",
      "metadata": {
        "id": "9F0q6TQkyh3m"
      },
      "source": [
        "gdp_df = pd.read_csv(dataset_folder+\"/cleaned_gdp_2010us.csv\")\n",
        "gdp_growth_df = pd.read_csv(dataset_folder+\"/cleaned_gdp_growth2015_2018.csv\")\n",
        "gdp_per_capita_df = pd.read_csv(dataset_folder+\"/cleaned_gdp_per_capita2014_2019.csv\")\n"
      ],
      "execution_count": 16,
      "outputs": []
    },
    {
      "cell_type": "code",
      "metadata": {
        "colab": {
          "base_uri": "https://localhost:8080/"
        },
        "id": "CY9OcfQ9z1Su",
        "outputId": "86f3a11d-15b8-40aa-b759-a2c95e21141f"
      },
      "source": [
        "print(gdp_df.shape)\n",
        "print(gdp_df.columns)\n",
        "print(gdp_growth_df.shape)\n",
        "print(gdp_growth_df.columns)\n",
        "print(gdp_per_capita_df.shape)\n",
        "print(gdp_per_capita_df.columns)"
      ],
      "execution_count": 17,
      "outputs": [
        {
          "output_type": "stream",
          "text": [
            "(217, 5)\n",
            "Index(['country', 'gdp_2015', 'gdp_2016', 'gdp_2017', 'gdp_2018'], dtype='object')\n",
            "(217, 5)\n",
            "Index(['country', '2015', '2016', '2017', '2018'], dtype='object')\n",
            "(217, 7)\n",
            "Index(['country', '2014', '2015', '2016', '2017', '2018', '2019'], dtype='object')\n"
          ],
          "name": "stdout"
        }
      ]
    },
    {
      "cell_type": "code",
      "metadata": {
        "colab": {
          "base_uri": "https://localhost:8080/"
        },
        "id": "7256RFQr0dqH",
        "outputId": "5cd28e04-cdcf-41ae-eac3-a1f815c818e0"
      },
      "source": [
        "print(gdp_df.head())\n",
        "print(gdp_growth_df.head())\n",
        "print(gdp_per_capita_df.head())"
      ],
      "execution_count": 18,
      "outputs": [
        {
          "output_type": "stream",
          "text": [
            "          country      gdp_2015      gdp_2016      gdp_2017      gdp_2018\n",
            "0     Afghanistan   19759744157   20206376461   20741239893   20987900553\n",
            "1         Albania   13033375122   13465406060   13977387391   14546448944\n",
            "2         Algeria  189736013664  195807566101  198353064461  200733301234\n",
            "3  American Samoa   549779735.7   534555066.1   503259911.9   514255506.6\n",
            "4         Andorra    3287458571    3409412701    3421211719    3475566751\n",
            "          country         2015          2016          2017         2018\n",
            "0     Afghanistan  1.451314655   2.260314205   2.647003202  1.189228129\n",
            "1         Albania  2.218752232   3.314804753   3.802197488  4.071301295\n",
            "2         Algeria          3.7           3.2           1.3          1.2\n",
            "3  American Samoa  1.404056162  -2.769230769   -5.85443038   2.18487395\n",
            "4         Andorra  1.434140395    3.70967807  0.3460718896   1.58876549\n",
            "          country         2014  ...         2018         2019\n",
            "0     Afghanistan  583.6561928  ...  564.6099917   573.287551\n",
            "1         Albania  4413.296891  ...  5074.857222   5210.68829\n",
            "2         Algeria  4700.640563  ...  4753.510987  4699.763405\n",
            "3  American Samoa  9717.829056  ...   9271.71201           ..\n",
            "4         Andorra  40914.72852  ...  45133.71361  45887.30213\n",
            "\n",
            "[5 rows x 7 columns]\n"
          ],
          "name": "stdout"
        }
      ]
    },
    {
      "cell_type": "code",
      "metadata": {
        "colab": {
          "base_uri": "https://localhost:8080/"
        },
        "id": "4WKqTWME0yBa",
        "outputId": "45d7acad-46df-4cfd-a28c-6f4b8a39074b"
      },
      "source": [
        "print(gdp_df.describe())\n",
        "print(gdp_growth_df.describe())\n",
        "print(gdp_per_capita_df.describe())"
      ],
      "execution_count": 19,
      "outputs": [
        {
          "output_type": "stream",
          "text": [
            "        country gdp_2015 gdp_2016 gdp_2017 gdp_2018\n",
            "count       217      217      217      217      217\n",
            "unique      217      201      200      200      198\n",
            "top     Croatia       ..       ..       ..       ..\n",
            "freq          1       17       18       18       20\n",
            "        country 2015 2016 2017 2018\n",
            "count       217  217  217  217  217\n",
            "unique      217  205  204  204  202\n",
            "top     Croatia   ..   ..   ..   ..\n",
            "freq          1   13   14   14   16\n",
            "        country 2014 2015 2016 2017 2018 2019\n",
            "count       217  217  217  217  217  217  217\n",
            "unique      217  202  201  200  200  198  186\n",
            "top     Croatia   ..   ..   ..   ..   ..   ..\n",
            "freq          1   16   17   18   18   20   32\n"
          ],
          "name": "stdout"
        }
      ]
    },
    {
      "cell_type": "markdown",
      "metadata": {
        "id": "737lIfeo4_kz"
      },
      "source": [
        "iv) Other economic indicators:\n",
        "We will also explore each country's gross domestic savings, level of economic freedom and public sector debt\n",
        "We will also look at uncertainty data through the world uncertainty index and the world trade uncertainty index"
      ]
    },
    {
      "cell_type": "code",
      "metadata": {
        "id": "KGOEVR3d5x5O"
      },
      "source": [
        "economic_freedom_df = pd.read_csv(dataset_folder+\"/cleaned_economic_freedom.csv\")\n",
        "domestic_savings_df = pd.read_csv(dataset_folder+\"/cleaned_gross_domestic_savings.csv\")\n",
        "debt_df = pd.read_csv(dataset_folder+\"/cleaned_public_sector_debt.csv\")"
      ],
      "execution_count": 20,
      "outputs": []
    },
    {
      "cell_type": "code",
      "metadata": {
        "colab": {
          "base_uri": "https://localhost:8080/"
        },
        "id": "uQpkIFZ48g3N",
        "outputId": "841c59c8-9a27-45c9-8ac7-9b2757ab641f"
      },
      "source": [
        "print(economic_freedom_df.shape)\n",
        "print(economic_freedom_df.columns)\n",
        "print(domestic_savings_df.shape)\n",
        "print(domestic_savings_df.columns)\n",
        "print(debt_df.shape)\n",
        "print(debt_df.columns)"
      ],
      "execution_count": 21,
      "outputs": [
        {
          "output_type": "stream",
          "text": [
            "(186, 5)\n",
            "Index(['country', 'economic_freedom_2015', 'economic_freedom_2016',\n",
            "       'economic_freedom_2017', 'economic_freedom_2018'],\n",
            "      dtype='object')\n",
            "(217, 5)\n",
            "Index(['country', 'gross_domestic_savings_2015', 'gross_domestic_savings_2016',\n",
            "       'gross_domestic_savings_2017', 'gross_domestic_savings_2018'],\n",
            "      dtype='object')\n",
            "(102, 7)\n",
            "Index(['country', '2014Q4', '2015Q4', '2016Q4', '2017Q4', '2018Q4', '2019Q4'], dtype='object')\n"
          ],
          "name": "stdout"
        }
      ]
    },
    {
      "cell_type": "code",
      "metadata": {
        "id": "98UnS6il9I2S"
      },
      "source": [
        "wui_df = pd.read_csv(dataset_folder+\"/wui2014_2019.csv\")\n",
        "wtui_df = pd.read_csv(dataset_folder+\"/wtui2014_2019.csv\")"
      ],
      "execution_count": 22,
      "outputs": []
    },
    {
      "cell_type": "code",
      "metadata": {
        "colab": {
          "base_uri": "https://localhost:8080/"
        },
        "id": "TWxeJ3KH9hXl",
        "outputId": "4c668d74-8f46-45f7-cf4e-f4d17dab9636"
      },
      "source": [
        "print(wui_df.shape)\n",
        "print(wui_df.columns)\n",
        "print(wtui_df.shape)\n",
        "print(wtui_df.columns)"
      ],
      "execution_count": 23,
      "outputs": [
        {
          "output_type": "stream",
          "text": [
            "(143, 26)\n",
            "Index(['country', 'country_code', '2014q1', '2014q2', '2014q3', '2014q4',\n",
            "       '2015q1', '2015q2', '2015q3', '2015q4', '2016q1', '2016q2', '2016q3',\n",
            "       '2016q4', '2017q1', '2017q2', '2017q3', '2017q4', '2018q1', '2018q2',\n",
            "       '2018q3', '2018q4', '2019q1', '2019q2', '2019q3', '2019q4'],\n",
            "      dtype='object')\n",
            "(143, 26)\n",
            "Index(['country', 'country_code', '2014q1', '2014q2', '2014q3', '2014q4',\n",
            "       '2015q1', '2015q2', '2015q3', '2015q4', '2016q1', '2016q2', '2016q3',\n",
            "       '2016q4', '2017q1', '2017q2', '2017q3', '2017q4', '2018q1', '2018q2',\n",
            "       '2018q3', '2018q4', '2019q1', '2019q2', '2019q3', '2019q4'],\n",
            "      dtype='object')\n"
          ],
          "name": "stdout"
        }
      ]
    },
    {
      "cell_type": "markdown",
      "metadata": {
        "id": "hOa1Tj9Q9-hc"
      },
      "source": [
        "v) Other well-being indicators:\n",
        "We will also explore generosity data and country responses to subjective health"
      ]
    },
    {
      "cell_type": "code",
      "metadata": {
        "id": "UUNJVZGq-lwQ"
      },
      "source": [
        "subjective_health_df1= pd.read_csv(dataset_folder+\"/cleaned_state_of_health_subjective_wave1.csv\")\n",
        "subjective_health_df2 = pd.read_csv(dataset_folder+\"/cleaned_state_of_health_subjective_wave2.csv\")\n",
        "generosity_df = pd.read_csv(dataset_folder+\"/worldGivingIndex.csv\")"
      ],
      "execution_count": 49,
      "outputs": []
    },
    {
      "cell_type": "code",
      "metadata": {
        "colab": {
          "base_uri": "https://localhost:8080/"
        },
        "id": "oTdQ2G49_Mkp",
        "outputId": "4ab4a436-2c53-439c-b925-fe5abea8dac8"
      },
      "source": [
        "print(subjective_health_df1.shape)\n",
        "print(subjective_health_df1.columns)\n",
        "print(subjective_health_df2.shape)\n",
        "print(subjective_health_df2.columns)\n",
        "print(generosity_df.shape)\n",
        "print(generosity_df.columns)"
      ],
      "execution_count": 50,
      "outputs": [
        {
          "output_type": "stream",
          "text": [
            "(79, 7)\n",
            "Index(['country', 'NA', 'very_good', 'good', 'fair', 'poor', 'very_poor'], dtype='object')\n",
            "(60, 6)\n",
            "Index(['country', 'NA', 'very_good', 'good', 'fair', 'poor'], dtype='object')\n",
            "(126, 6)\n",
            "Index(['country', 'overallRank', 'overallScore', 'donateScore',\n",
            "       'helpStrangerScore', 'volTimeScore'],\n",
            "      dtype='object')\n"
          ],
          "name": "stdout"
        }
      ]
    },
    {
      "cell_type": "markdown",
      "metadata": {
        "id": "t2VlFfxZAAkt"
      },
      "source": [
        "\n",
        "\n",
        "---\n",
        "\n",
        "\n",
        "3. Data Processing\n",
        "\n",
        "\n",
        "\n",
        "---\n",
        "\n",
        "\n",
        "Most of the data is already cleaned but we will need to:\n",
        "\n",
        "a) Find log gdp per capitas for each country\n",
        "\n",
        "b) Find standard deviations of GDPs as a proxy for uncertainty \n",
        "\n",
        "c) Combine columns 'poor' and 'very_poor' into one category for subjective health data (wave 1)\n",
        "\n",
        "d) Find the subset of countries we can regress on (there are only 60 countries where we have a complete set of data)\n",
        "\n",
        "e) Complete relevant data merges and/or creating new columns in the datasets\n",
        "\n",
        "We will import the Math library and stdev package to help with these operations"
      ]
    },
    {
      "cell_type": "code",
      "metadata": {
        "id": "35Cqg5k-DOQF"
      },
      "source": [
        "import math \n",
        "from statistics import stdev "
      ],
      "execution_count": 26,
      "outputs": []
    },
    {
      "cell_type": "code",
      "metadata": {
        "id": "Qxz7w_SHJacJ"
      },
      "source": [
        "#gdp_per_capita_df.head()\n",
        "#convert columns that are strings to float, fill null values with zeroes\n",
        "gdp_per_capita_df['gdppc2014'] =  pd.to_numeric(gdp_per_capita_df['2014'], errors='coerce').fillna(0).astype(float)\n",
        "gdp_per_capita_df['gdppc2015'] =  pd.to_numeric(gdp_per_capita_df['2015'], errors='coerce').fillna(0).astype(float)\n",
        "gdp_per_capita_df['gdppc2016'] =  pd.to_numeric(gdp_per_capita_df['2016'], errors='coerce').fillna(0).astype(float)\n",
        "gdp_per_capita_df['gdppc2017'] =  pd.to_numeric(gdp_per_capita_df['2017'], errors='coerce').fillna(0).astype(float)\n",
        "gdp_per_capita_df['gdppc2018'] =  pd.to_numeric(gdp_per_capita_df['2018'], errors='coerce').fillna(0).astype(float)\n",
        "gdp_per_capita_df['gdppc2019'] =  pd.to_numeric(gdp_per_capita_df['2019'], errors='coerce').fillna(0).astype(float)"
      ],
      "execution_count": 27,
      "outputs": []
    },
    {
      "cell_type": "code",
      "metadata": {
        "id": "qdvKThnko6nI"
      },
      "source": [
        "#find log gdp per capita for each year\n",
        "# first we create a function to help create the logs\n",
        "def calculate_log(entry):\n",
        "  if entry>0:\n",
        "    return math.log10(entry)\n",
        "\n",
        "  return 0"
      ],
      "execution_count": 28,
      "outputs": []
    },
    {
      "cell_type": "code",
      "metadata": {
        "id": "kx2Fw9_hrlu3"
      },
      "source": [
        "gdp_per_capita_df['log_gdppc2014'] = gdp_per_capita_df['gdppc2014'].apply(calculate_log)\n",
        "gdp_per_capita_df['log_gdppc2015'] = gdp_per_capita_df['gdppc2015'].apply(calculate_log)\n",
        "gdp_per_capita_df['log_gdppc2016'] = gdp_per_capita_df['gdppc2016'].apply(calculate_log)\n",
        "gdp_per_capita_df['log_gdppc2017'] = gdp_per_capita_df['gdppc2017'].apply(calculate_log)\n",
        "gdp_per_capita_df['log_gdppc2018'] = gdp_per_capita_df['gdppc2018'].apply(calculate_log)\n",
        "gdp_per_capita_df['log_gdppc2019'] = gdp_per_capita_df['gdppc2019'].apply(calculate_log)"
      ],
      "execution_count": 29,
      "outputs": []
    },
    {
      "cell_type": "markdown",
      "metadata": {
        "id": "aIFUcbmcsbOu"
      },
      "source": [
        "We can check some of the converted values "
      ]
    },
    {
      "cell_type": "code",
      "metadata": {
        "colab": {
          "base_uri": "https://localhost:8080/"
        },
        "id": "TSrwjJbAsEfo",
        "outputId": "7ee5f90f-6e26-4e2f-a362-41165df0a6cc"
      },
      "source": [
        "print(gdp_per_capita_df['log_gdppc2014'].head())\n",
        "print(gdp_per_capita_df['log_gdppc2015'].head())"
      ],
      "execution_count": 30,
      "outputs": [
        {
          "output_type": "stream",
          "text": [
            "0    2.766157\n",
            "1    3.644763\n",
            "2    3.672157\n",
            "3    3.987569\n",
            "4    4.611880\n",
            "Name: log_gdppc2014, dtype: float64\n",
            "0    2.759051\n",
            "1    3.655558\n",
            "2    3.679053\n",
            "3    3.993461\n",
            "4    4.624704\n",
            "Name: log_gdppc2015, dtype: float64\n"
          ],
          "name": "stdout"
        }
      ]
    },
    {
      "cell_type": "code",
      "metadata": {
        "id": "_EA9t32Xs6Bx"
      },
      "source": [
        "#convert gdp entries from strings to floats \n",
        "gdp_df['gdp2015i'] =  pd.to_numeric(gdp_df['gdp_2015'], errors='coerce').fillna(0).astype(float)\n",
        "gdp_df['gdp2016i'] =  pd.to_numeric(gdp_df['gdp_2016'], errors='coerce').fillna(0).astype(float)\n",
        "gdp_df['gdp2017i'] =  pd.to_numeric(gdp_df['gdp_2017'], errors='coerce').fillna(0).astype(float)\n",
        "gdp_df['gdp2018i'] =  pd.to_numeric(gdp_df['gdp_2018'], errors='coerce').fillna(0).astype(float)"
      ],
      "execution_count": 31,
      "outputs": []
    },
    {
      "cell_type": "code",
      "metadata": {
        "colab": {
          "base_uri": "https://localhost:8080/"
        },
        "id": "qtfWF8D0x7hU",
        "outputId": "5514e937-3702-419b-98c0-f35f49ee15a8"
      },
      "source": [
        "#Print out log-gdp sample output for each year\n",
        "print(gdp_df['gdp2015i'].head())\n",
        "print(gdp_df['gdp2016i'].head())\n",
        "print(gdp_df['gdp2017i'].head())\n",
        "print(gdp_df['gdp2018i'].head())"
      ],
      "execution_count": 33,
      "outputs": [
        {
          "output_type": "stream",
          "text": [
            "0    1.975974e+10\n",
            "1    1.303338e+10\n",
            "2    1.897360e+11\n",
            "3    5.497797e+08\n",
            "4    3.287459e+09\n",
            "Name: gdp2015i, dtype: float64\n",
            "0    2.020638e+10\n",
            "1    1.346541e+10\n",
            "2    1.958076e+11\n",
            "3    5.345551e+08\n",
            "4    3.409413e+09\n",
            "Name: gdp2016i, dtype: float64\n",
            "0    2.074124e+10\n",
            "1    1.397739e+10\n",
            "2    1.983531e+11\n",
            "3    5.032599e+08\n",
            "4    3.421212e+09\n",
            "Name: gdp2017i, dtype: float64\n",
            "0    2.098790e+10\n",
            "1    1.454645e+10\n",
            "2    2.007333e+11\n",
            "3    5.142555e+08\n",
            "4    3.475567e+09\n",
            "Name: gdp2018i, dtype: float64\n"
          ],
          "name": "stdout"
        }
      ]
    },
    {
      "cell_type": "code",
      "metadata": {
        "id": "toiWEkE4Sc0u"
      },
      "source": [
        "#calculate the standard deviation of GDP for each country between 2015 - 2018\n",
        "gdp_df['gdp_stdev'] = gdp_df[['gdp2015i', 'gdp2016i', 'gdp2017i','gdp2018i']].std(axis=1)"
      ],
      "execution_count": 42,
      "outputs": []
    },
    {
      "cell_type": "code",
      "metadata": {
        "colab": {
          "base_uri": "https://localhost:8080/"
        },
        "id": "-6Q3UjUxUNgH",
        "outputId": "5443b6a6-c948-45f6-cc5c-7199cb74cf5b"
      },
      "source": [
        "#we can check the sample output\n",
        "print(gdp_df['gdp_stdev'].head())"
      ],
      "execution_count": 43,
      "outputs": [
        {
          "output_type": "execute_result",
          "data": {
            "text/plain": [
              "0    5.499154e+08\n",
              "1    6.533128e+08\n",
              "2    4.729919e+09\n",
              "3    2.075696e+07\n",
              "4    7.938170e+07\n",
              "Name: gdp_stdev, dtype: float64"
            ]
          },
          "metadata": {
            "tags": []
          },
          "execution_count": 43
        }
      ]
    },
    {
      "cell_type": "code",
      "metadata": {
        "id": "jlLl94QIUj1j"
      },
      "source": [
        "#combine the entries under 'poor' and 'very poor' into one category to match the data from wave 2\n",
        "subjective_health_df1['poor'] = subjective_health_df1['poor'] + subjective_health_df1['very_poor']\n",
        "#we no longer need the very poor category so we drop it\n",
        "subjective_health_df1.drop(['very_poor'], axis=1, inplace=True)"
      ],
      "execution_count": 51,
      "outputs": []
    },
    {
      "cell_type": "code",
      "metadata": {
        "colab": {
          "base_uri": "https://localhost:8080/"
        },
        "id": "NwhyBQawU6t4",
        "outputId": "ec186e6d-041f-414b-cb74-58d47f90def3"
      },
      "source": [
        "#confirm that our value output is as expected and that the column has been dropped\n",
        "print(subjective_health_df1['poor'].head())\n",
        "subjective_health_df1.columns"
      ],
      "execution_count": 52,
      "outputs": [
        {
          "output_type": "stream",
          "text": [
            "0    19.2\n",
            "1     2.4\n",
            "2     7.5\n",
            "3     8.0\n",
            "4     6.5\n",
            "Name: poor, dtype: float64\n"
          ],
          "name": "stdout"
        },
        {
          "output_type": "execute_result",
          "data": {
            "text/plain": [
              "Index(['country', 'NA', 'very_good', 'good', 'fair', 'poor'], dtype='object')"
            ]
          },
          "metadata": {
            "tags": []
          },
          "execution_count": 52
        }
      ]
    },
    {
      "cell_type": "markdown",
      "metadata": {
        "id": "4EPeDDsRWC42"
      },
      "source": [
        "We can now look at the Cantril Ladder and Open-ended question datasets to see what countries have complete data in both. We will then merge our economic data to these countries so we can have a complete dataset"
      ]
    },
    {
      "cell_type": "code",
      "metadata": {
        "id": "hvKAvLekV61G"
      },
      "source": [
        ""
      ],
      "execution_count": null,
      "outputs": []
    }
  ]
}